{
 "cells": [
  {
   "cell_type": "code",
   "execution_count": 1,
   "metadata": {},
   "outputs": [],
   "source": [
    "import numpy as np\n",
    "import pandas as pd\n",
    "import math\n",
    "from sklearn.linear_model import LogisticRegression\n",
    "from sklearn.linear_model import LinearRegression\n",
    "from sklearn.ensemble import RandomForestRegressor\n",
    "from sklearn.model_selection import train_test_split\n",
    "from sklearn import preprocessing\n",
    "from sklearn.neighbors import NearestNeighbors\n",
    "from sklearn.neighbors import KNeighborsRegressor\n",
    "\n",
    "import matplotlib.pyplot as plt"
   ]
  },
  {
   "cell_type": "code",
   "execution_count": 2,
   "metadata": {},
   "outputs": [],
   "source": [
    "#edit directory to userID\n",
    "userID = 'opeters1'\n",
    "\n",
    "team_df = pd.read_csv('/home/'+ userID +'/scratch/archive/Teams.csv')\n",
    "player_df = pd.read_csv('/home/'+ userID +'/scratch/archive/Batting.csv')\n",
    "#pitching_df = pd.read_csv('/home/'+ userID +'/scratch/archive/pitching.csv')\n",
    "uncleanedSal_df = pd.read_csv('/home/'+ userID +'/scratch/archive/Salaries.csv')"
   ]
  },
  {
   "cell_type": "markdown",
   "metadata": {},
   "source": [
    "### Cleaning dataset - \n",
    "arrived at year 1947 because it was the most recent notable change in the league (Desegregation)\n",
    "kept G, W, R, AB, H, 2B, 3B, HR, BB, SO, CS, SB, HBP, SF, and FP because they pertain to the statistics we intend on using for our models.\n",
    "\n",
    "While it matters for a team's winning percentage, runs are less relevant for a specific player (there are a lot of factors that could bring someone home, it's not up to them), and it might overwhelm the model.\n",
    "\n",
    "NOTE: We would have included SF and HBP, however, the data was not recorded for games before the year 2000 and it would cut off too much of our data if we ignored the 1947-1999 seasons."
   ]
  },
  {
   "cell_type": "code",
   "execution_count": 3,
   "metadata": {},
   "outputs": [],
   "source": [
    "cleaned_years = team_df[team_df.yearID >= 1947]\n",
    "cleaned_team = cleaned_years[['G', 'W', 'AB', 'H', '2B', '3B', 'HR', 'BB', 'SO', 'CS', 'SB', 'FP']]\n",
    "cleaned_team = cleaned_team.dropna()\n",
    "\n",
    "# calculate winning percentage, then drop the W and G columns\n",
    "cleaned_team[\"win_perc\"] = cleaned_team[\"W\"] / cleaned_team[\"G\"]\n",
    "cleaned_team = cleaned_team.drop(['W', 'G'], axis = 1)"
   ]
  },
  {
   "cell_type": "markdown",
   "metadata": {},
   "source": [
    "### Normalizing Data set\n",
    "\n",
    "Because all of these stats are based off of at bats (AB), we opt to normalize the dataset based off of this."
   ]
  },
  {
   "cell_type": "code",
   "execution_count": 4,
   "metadata": {},
   "outputs": [],
   "source": [
    "def normalize_df(df):\n",
    "    normalized = df.copy(deep=True)\n",
    "    included_stats = ['H', '2B', '3B', 'HR', 'BB', 'SO', 'CS', 'SB'] #REMOVED FP, removed R, dropping AB after normalizing\n",
    "    normalized['H'] = normalized['H'] - normalized['2B'] - normalized['3B'] - normalized['HR']\n",
    "    for stat in included_stats:\n",
    "        normalized[stat] = normalized[stat] / normalized[\"AB\"]\n",
    "    normalized = normalized.drop(['AB'], axis = 1)\n",
    "    \n",
    "    # normalize each column based on min/max to be on a range of 0 and 1\n",
    "    result = normalized.copy()\n",
    "    for feature_name in included_stats:\n",
    "        max_value = normalized[feature_name].max()\n",
    "        min_value = normalized[feature_name].min()\n",
    "        result[feature_name] = (normalized[feature_name] - min_value) / (max_value - min_value)\n",
    "    return result\n"
   ]
  },
  {
   "cell_type": "code",
   "execution_count": 5,
   "metadata": {},
   "outputs": [],
   "source": [
    "# standardize data sets\n",
    "normalized_team = normalize_df(cleaned_team)\n",
    "included_stats = ['H', '2B', '3B', 'HR', 'BB', 'SO', 'CS', 'SB']\n",
    "y = normalized_team[['win_perc']]\n",
    "X = normalized_team[included_stats]\n",
    "x_train, x_test, y_train, y_test = train_test_split(X, y, test_size=0.25, random_state=0)"
   ]
  },
  {
   "cell_type": "code",
   "execution_count": 6,
   "metadata": {},
   "outputs": [
    {
     "name": "stdout",
     "output_type": "stream",
     "text": [
      "\"Accuracy\" is 0.2858738303017132 \n",
      "\n",
      "\n",
      "Weights:\n",
      "((0.1437930963450888, 'H'), (0.00981612120859117, '2B'), (0.04565299228158608, '3B'), (0.19303170024445593, 'HR'), (0.09924158594991374, 'BB'), (-0.03904679363780258, 'SO'), (-0.07461915212315173, 'CS'), (0.15227352843513156, 'SB'))\n",
      "Intercept:[0.27628407]\n"
     ]
    }
   ],
   "source": [
    "#set up linear regression\n",
    "\n",
    "reg = LinearRegression().fit(x_train, y_train)\n",
    "lr_acc = reg.score(x_test, y_test)\n",
    "print('\"Accuracy\" is', lr_acc, '\\n\\n')\n",
    "\n",
    "# we can use ALL of the data to create a regression, because we'll be \"testing\" not on these teams, but on players instead\n",
    "true_reg = LinearRegression().fit(X, y)\n",
    "\n",
    "print(\"Weights:\")\n",
    "print(tuple(zip(true_reg.coef_[0], included_stats)))\n",
    "print(\"Intercept:\" + str(true_reg.intercept_))\n"
   ]
  },
  {
   "cell_type": "code",
   "execution_count": 7,
   "metadata": {},
   "outputs": [
    {
     "data": {
      "image/png": "[encoded data removed]",
      "text/plain": [
       "<Figure size 432x288 with 1 Axes>"
      ]
     },
     "metadata": {
      "needs_background": "light"
     },
     "output_type": "display_data"
    }
   ],
   "source": [
    "# Plotting true win % vs Pred win % on teams\n",
    "fig, ax = plt.subplots()\n",
    "\n",
    "pred_X = []\n",
    "for i, stats in X.iterrows():\n",
    "    pred_X.append(true_reg.predict([stats]))\n",
    "\n",
    "ax.plot([0,1],[0,1], transform=ax.transAxes)\n",
    "    \n",
    "plt.scatter(y, pred_X)\n",
    "plt.title('Linear Regression Accuracy: %.3f' % lr_acc)\n",
    "plt.xlabel('True Win %')\n",
    "plt.ylabel('Predicted win %')\n",
    "plt.xlim([0, 1])\n",
    "plt.ylim([0, 1])\n",
    "\n",
    "plt.show()"
   ]
  },
  {
   "cell_type": "markdown",
   "metadata": {},
   "source": [
    "## Describing our linear regression\n",
    "\n",
    "The linear regression model set up above looks at hits, doubles, triples, home runs, walks, strike outs, times caught stealing, and succesful steals. *Hits have been modified to just represent singles*\n",
    "\n",
    "It doesn't look at runs, at bats, and fielding percentage. This is because runs, while good at predicting a team's win percentage, says less about an individual player. At bats are \"normalized\" out of the equation, and fielding percentage, while relevant, seems difficult to integrate into the data without pulling from a different spreadsheet (and even then looks difficult).\n",
    "\n",
    "When applying this model to specific players it's important to note that the output \"winning percentage\" that it estimates won't easily correspond to a teams winning percentage. That's because the model was trained on a *team's* worth of hits/runs/etc. This doesn't translate to a single player because a single player has roughly a ninth worth of these stats. However, the output that we come up with will still be able to be used to compare different players, and rank them.\n",
    "\n"
   ]
  },
  {
   "cell_type": "markdown",
   "metadata": {},
   "source": [
    "## A brief Exploration of Random Forest Regression"
   ]
  },
  {
   "cell_type": "code",
   "execution_count": 8,
   "metadata": {},
   "outputs": [
    {
     "name": "stderr",
     "output_type": "stream",
     "text": [
      "<ipython-input-8-0611df2141aa>:4: DataConversionWarning: A column-vector y was passed when a 1d array was expected. Please change the shape of y to (n_samples,), for example using ravel().\n",
      "  forest_regr.fit(x_train, y_train)\n"
     ]
    },
    {
     "name": "stdout",
     "output_type": "stream",
     "text": [
      "\"Accuracy\" is 0.23516832675563404 \n",
      "\n",
      "\n"
     ]
    },
    {
     "name": "stderr",
     "output_type": "stream",
     "text": [
      "<ipython-input-8-0611df2141aa>:10: DataConversionWarning: A column-vector y was passed when a 1d array was expected. Please change the shape of y to (n_samples,), for example using ravel().\n",
      "  true_forest_regr.fit(X, y)\n"
     ]
    },
    {
     "data": {
      "text/plain": [
       "RandomForestRegressor(max_depth=100, random_state=0)"
      ]
     },
     "execution_count": 8,
     "metadata": {},
     "output_type": "execute_result"
    }
   ],
   "source": [
    "# Set up random forest regressor\n",
    "\n",
    "forest_regr = RandomForestRegressor(max_depth=100, random_state=1)\n",
    "forest_regr.fit(x_train, y_train)\n",
    "forest_acc = forest_regr.score(x_test, y_test)\n",
    "\n",
    "print('\"Accuracy\" is', forest_acc, '\\n\\n')\n",
    "\n",
    "true_forest_regr = RandomForestRegressor(max_depth=100, random_state=0)\n",
    "true_forest_regr.fit(X, y)\n"
   ]
  },
  {
   "cell_type": "code",
   "execution_count": 9,
   "metadata": {},
   "outputs": [
    {
     "name": "stdout",
     "output_type": "stream",
     "text": [
      "2490\n"
     ]
    },
    {
     "data": {
      "image/png": "[encoded data removed]",
      "text/plain": [
       "<Figure size 432x288 with 1 Axes>"
      ]
     },
     "metadata": {
      "needs_background": "light"
     },
     "output_type": "display_data"
    }
   ],
   "source": [
    "# Plotting true win % vs Pred win % on teams\n",
    "\n",
    "fig, ax = plt.subplots()\n",
    "\n",
    "forest_pred_X = []\n",
    "for i, stats in x_test.iterrows():\n",
    "    forest_pred_X.append(forest_regr.predict([stats]))\n",
    "\n",
    "print(i)\n",
    "ax.plot([0,1],[0,1], transform=ax.transAxes)\n",
    "\n",
    "plt.scatter(y_test, forest_pred_X)\n",
    "plt.title('Random Forest Accuracy: %.3f' % forest_acc)\n",
    "plt.xlabel('True Win %')\n",
    "plt.ylabel('Predicted win %')\n",
    "plt.xlim([0, 1])\n",
    "plt.ylim([0, 1])\n",
    "\n",
    "plt.show()\n"
   ]
  },
  {
   "cell_type": "code",
   "execution_count": 10,
   "metadata": {},
   "outputs": [
    {
     "name": "stderr",
     "output_type": "stream",
     "text": [
      "<ipython-input-10-7e3183960f35>:2: UserWarning: Boolean Series key will be reindexed to match DataFrame index.\n",
      "  cleaned_player_years = player_df[player_df.yearID >= 1947][player_df.AB >= 150].dropna()\n"
     ]
    }
   ],
   "source": [
    "# only get players after integration era who have more than 150 at bats. NOTE:can also modify to 100, or 50 if we want.\n",
    "cleaned_player_years = player_df[player_df.yearID >= 1947][player_df.AB >= 150].dropna()\n",
    "normalized_players = normalize_df(cleaned_player_years)\n",
    "player_np = normalized_players[['H', '2B', '3B', 'HR', 'BB', 'SO', 'CS', 'SB']].to_numpy()\n",
    "\n",
    "lin_reg_player_rank = []\n",
    "rf_player_rank = []\n",
    "\n",
    "for i, player_info in enumerate(player_np):\n",
    "    \n",
    "    p_id = str(cleaned_player_years.iloc[[i]]['playerID'].item())\n",
    "    yr_id = str(cleaned_player_years.iloc[[i]]['yearID'].item())\n",
    "    lin_reg_score = true_reg.predict([player_info])[0][0]\n",
    "    rf_score = true_forest_regr.predict([player_info])[0]\n",
    "    \n",
    "    \n",
    "    lin_reg_player_rank.append((lin_reg_score, p_id, yr_id))\n",
    "    rf_player_rank.append((rf_score, p_id, yr_id))"
   ]
  },
  {
   "cell_type": "code",
   "execution_count": 11,
   "metadata": {},
   "outputs": [
    {
     "name": "stdout",
     "output_type": "stream",
     "text": [
      "Top 50 Players based on Linear Reg: \t\tTop 50 Players based on Random Forest Reg:\n",
      "(0.5938389146641071, 'bondsba01', '2004')\t(0.5763548939610338, 'bondsba01', '2002')\n",
      "(0.571198901268854, 'bondsba01', '2002')\t(0.57586054043634, 'bondsba01', '2004')\n",
      "(0.5553009746589084, 'bondsba01', '2001')\t(0.5548006173923611, 'bondsba01', '2001')\n",
      "(0.5458723409900569, 'bondsba01', '2003')\t(0.5439933978475165, 'willite01', '1955')\n",
      "(0.5373352561814201, 'raineti01', '1981')\t(0.5385964474002166, 'thomafr04', '1994')\n",
      "(0.5313546064851897, 'daviser01', '1986')\t(0.5382046059300216, 'mantlmi01', '1962')\n",
      "(0.5284278473541106, 'morgajo02', '1976')\t(0.537412716501837, 'mcgwima01', '1995')\n",
      "(0.5276598232251708, 'morgajo02', '1975')\t(0.5370573410940532, 'bondsba01', '2003')\n",
      "(0.525560942553611, 'willite01', '1957')\t(0.5369639251549232, 'mantlmi01', '1956')\n",
      "(0.5244995410825972, 'henderi01', '1989')\t(0.5358444676143029, 'mcgwima01', '1996')\n",
      "(0.523324578398204, 'mantlmi01', '1957')\t(0.5330540470920091, 'willite01', '1957')\n",
      "(0.521936716291149, 'henderi01', '1985')\t(0.5292720112290988, 'mantlmi01', '1957')\n",
      "(0.5209892644729873, 'sheffga01', '1995')\t(0.5243448704467144, 'walkela01', '1999')\n",
      "(0.520707761859477, 'henderi01', '1990')\t(0.5223575658356016, 'aaronha01', '1971')\n",
      "(0.5195744514451454, 'lopesda01', '1985')\t(0.5174275567053632, 'mayswi01', '1965')\n",
      "(0.5184513985103957, 'bondsba01', '1996')\t(0.5158215462896046, 'mantlmi01', '1963')\n",
      "(0.5184019136386928, 'henderi01', '1983')\t(0.5149034214110988, 'morgajo02', '1975')\n",
      "(0.5182857250273323, 'mantlmi01', '1956')\t(0.5148800289117813, 'ramirma02', '2008')\n",
      "(0.5165339747241715, 'willite01', '1955')\t(0.5142523762871268, 'bagweje01', '1994')\n",
      "(0.5163548673335505, 'mcgwima01', '2000')\t(0.5137339148670145, 'mcgwima01', '1999')\n",
      "(0.5146172511518984, 'mantlmi01', '1961')\t(0.5119436466497306, 'fostege01', '1977')\n",
      "(0.5131623635116731, 'stoneje01', '1984')\t(0.5109148646709144, 'giambja01', '2000')\n",
      "(0.5107120621639408, 'cashno01', '1961')\t(0.5100254147191111, 'mcgwima01', '1997')\n",
      "(0.5106661846084513, 'mcgwima01', '1998')\t(0.5094233520381892, 'cashno01', '1961')\n",
      "(0.5101960200119259, 'ramirma02', '2008')\t(0.5089027433088353, 'marisro01', '1961')\n",
      "(0.5101878774675439, 'henderi01', '1993')\t(0.5072744903662715, 'ortizda01', '2006')\n",
      "(0.5091169144380642, 'bondsba01', '1994')\t(0.506855239213415, 'sheffga01', '1996')\n",
      "(0.5076181330137499, 'mantlmi01', '1962')\t(0.5058620215874838, 'mcgwima01', '1998')\n",
      "(0.5066832521244073, 'mayswi01', '1955')\t(0.5050307515051744, 'mcgwima01', '2001')\n",
      "(0.5061131739962215, 'walkela01', '1999')\t(0.5049484149797074, 'loftoke01', '1994')\n",
      "(0.505830575527373, 'bagweje01', '1994')\t(0.5040345702111592, 'willima04', '1995')\n",
      "(0.5032898938516477, 'walkela01', '1997')\t(0.5038523580907749, 'bondsba01', '2000')\n",
      "(0.500340554674224, 'bondsba01', '1992')\t(0.503409432899546, 'willite01', '1960')\n",
      "(0.49955683801564166, 'henderi01', '1980')\t(0.5028752689277018, 'bondsba01', '1992')\n",
      "(0.49922079748902093, 'mcgwima01', '1996')\t(0.5028595904606494, 'mccovwi01', '1969')\n",
      "(0.49919089919797494, 'daviser01', '1987')\t(0.5027807565093362, 'morgajo02', '1976')\n",
      "(0.4975313197625446, 'bondsba01', '1993')\t(0.5023546252396106, 'sheffga01', '1995')\n",
      "(0.49712060862024926, 'bondsba01', '1997')\t(0.5015989367475343, 'bondsba01', '1997')\n",
      "(0.4964172450189807, 'henderi01', '1988')\t(0.5014548177272775, 'mantlmi01', '1961')\n",
      "(0.4957104184419183, 'loftoke01', '1994')\t(0.5014153822676992, 'stynech01', '1997')\n",
      "(0.4948781115176677, 'gwynnto01', '1987')\t(0.5014026227097804, 'pujolal01', '2006')\n",
      "(0.4946132627044262, 'brettge01', '1980')\t(0.5012617850681523, 'howarfr01', '1969')\n",
      "(0.4942785930569879, 'raineti01', '1987')\t(0.5011089894712513, 'francti01', '1959')\n",
      "(0.4940528025841206, 'willsma01', '1962')\t(0.500984729069755, 'bondsba01', '1996')\n",
      "(0.49365891014218566, 'henderi01', '1987')\t(0.5008259910218303, 'bautijo02', '2011')\n",
      "(0.4932999936509325, 'beltrca01', '2003')\t(0.5007173647616316, 'thomafr04', '1995')\n",
      "(0.493166225336636, 'raineti01', '1985')\t(0.5005456162042642, 'clarkja01', '1990')\n",
      "(0.4931590688903996, 'thomafr04', '1994')\t(0.4997808859222, 'henderi01', '1993')\n",
      "(0.49301969381199473, 'bondsba01', '2000')\t(0.49884208147531184, 'henderi01', '1985')\n",
      "-------\n"
     ]
    }
   ],
   "source": [
    "lin_reg_player_rank.sort(key = lambda x: x[0])\n",
    "rf_player_rank.sort(key = lambda x: x[0])\n",
    "print(\"Top 50 Players based on Linear Reg: \\t\\tTop 50 Players based on Random Forest Reg:\")\n",
    "for i in range(-1,-50,-1):\n",
    "    print(str(lin_reg_player_rank[i]) + '\\t' + str(rf_player_rank[i]))\n",
    "    \n",
    "print(\"-------\")\n"
   ]
  },
  {
   "cell_type": "code",
   "execution_count": 12,
   "metadata": {},
   "outputs": [],
   "source": [
    "# Write the ranking as csv\n",
    "\n",
    "lr_df = pd.DataFrame(lin_reg_player_rank)\n",
    "lr_df.to_csv(\"lr_player_rank.csv\", index=False,  header=[\"Score\", \"playerID\", \"Year\"])\n",
    "\n",
    "rf_df = pd.DataFrame(rf_player_rank)\n",
    "rf_df.to_csv(\"rf_player_rank.csv\", index=False,  header=[\"Score\", \"playerID\", \"Year\"])"
   ]
  },
  {
   "cell_type": "code",
   "execution_count": 13,
   "metadata": {},
   "outputs": [
    {
     "data": {
      "image/png": "[encoded data removed]",
      "text/plain": [
       "<Figure size 432x288 with 1 Axes>"
      ]
     },
     "metadata": {
      "needs_background": "light"
     },
     "output_type": "display_data"
    },
    {
     "data": {
      "image/png": "[encoded data removed]",
      "text/plain": [
       "<Figure size 432x288 with 1 Axes>"
      ]
     },
     "metadata": {
      "needs_background": "light"
     },
     "output_type": "display_data"
    }
   ],
   "source": [
    "#Histogram to visualize distribution spread\n",
    "lr_df.rename(columns={0 : 'Score Frequency Distribution LR'}, inplace=True)\n",
    "rf_df.rename(columns={0 : 'Score Frequency Distribution RF'}, inplace=True)\n",
    "hist = lr_df.hist(bins=20)\n",
    "hist2 = rf_df.hist(bins=20)"
   ]
  },
  {
   "cell_type": "markdown",
   "metadata": {},
   "source": [
    "## Salary vs Team Worth Evaluation"
   ]
  },
  {
   "cell_type": "code",
   "execution_count": 14,
   "metadata": {},
   "outputs": [
    {
     "name": "stderr",
     "output_type": "stream",
     "text": [
      "<ipython-input-14-3b2e36356bdf>:2: UserWarning: Boolean Series key will be reindexed to match DataFrame index.\n",
      "  cleaned_player_years = player_df[player_df.yearID >= 1947][player_df.AB >= 150].dropna()\n"
     ]
    }
   ],
   "source": [
    "# only get players after integration era who have more than 150 at bats. NOTE:can also modify to 100, or 50 if we want.\n",
    "cleaned_player_years = player_df[player_df.yearID >= 1947][player_df.AB >= 150].dropna()\n",
    "normalized_players = normalize_df(cleaned_player_years)\n",
    "player_np = normalized_players[['H', '2B', '3B', 'HR', 'BB', 'SO', 'CS', 'SB']].to_numpy()\n",
    "\n",
    "player_rank = []\n",
    "player_rank_salary = []\n",
    "for i, player_info in enumerate(player_np):\n",
    "    \n",
    "    p_id = str(cleaned_player_years.iloc[[i]]['playerID'].item())\n",
    "    yr_id = str(cleaned_player_years.iloc[[i]]['yearID'].item())\n",
    "    score = true_reg.predict([player_info])[0][0]\n",
    "    player_rank.append((score, p_id, yr_id))\n",
    "    player_rank_salary.append((score, p_id, yr_id))"
   ]
  },
  {
   "cell_type": "code",
   "execution_count": 15,
   "metadata": {},
   "outputs": [
    {
     "data": {
      "text/html": [
       "<div>\n",
       "<style scoped>\n",
       "    .dataframe tbody tr th:only-of-type {\n",
       "        vertical-align: middle;\n",
       "    }\n",
       "\n",
       "    .dataframe tbody tr th {\n",
       "        vertical-align: top;\n",
       "    }\n",
       "\n",
       "    .dataframe thead th {\n",
       "        text-align: right;\n",
       "    }\n",
       "</style>\n",
       "<table border=\"1\" class=\"dataframe\">\n",
       "  <thead>\n",
       "    <tr style=\"text-align: right;\">\n",
       "      <th></th>\n",
       "      <th>yearID</th>\n",
       "      <th>teamID</th>\n",
       "      <th>lgID</th>\n",
       "      <th>playerID</th>\n",
       "      <th>salary</th>\n",
       "    </tr>\n",
       "  </thead>\n",
       "  <tbody>\n",
       "    <tr>\n",
       "      <th>0</th>\n",
       "      <td>1985</td>\n",
       "      <td>ATL</td>\n",
       "      <td>NL</td>\n",
       "      <td>barkele01</td>\n",
       "      <td>870000</td>\n",
       "    </tr>\n",
       "    <tr>\n",
       "      <th>1</th>\n",
       "      <td>1985</td>\n",
       "      <td>ATL</td>\n",
       "      <td>NL</td>\n",
       "      <td>bedrost01</td>\n",
       "      <td>550000</td>\n",
       "    </tr>\n",
       "    <tr>\n",
       "      <th>2</th>\n",
       "      <td>1985</td>\n",
       "      <td>ATL</td>\n",
       "      <td>NL</td>\n",
       "      <td>benedbr01</td>\n",
       "      <td>545000</td>\n",
       "    </tr>\n",
       "    <tr>\n",
       "      <th>3</th>\n",
       "      <td>1985</td>\n",
       "      <td>ATL</td>\n",
       "      <td>NL</td>\n",
       "      <td>campri01</td>\n",
       "      <td>633333</td>\n",
       "    </tr>\n",
       "    <tr>\n",
       "      <th>4</th>\n",
       "      <td>1985</td>\n",
       "      <td>ATL</td>\n",
       "      <td>NL</td>\n",
       "      <td>ceronri01</td>\n",
       "      <td>625000</td>\n",
       "    </tr>\n",
       "    <tr>\n",
       "      <th>...</th>\n",
       "      <td>...</td>\n",
       "      <td>...</td>\n",
       "      <td>...</td>\n",
       "      <td>...</td>\n",
       "      <td>...</td>\n",
       "    </tr>\n",
       "    <tr>\n",
       "      <th>25570</th>\n",
       "      <td>2015</td>\n",
       "      <td>WAS</td>\n",
       "      <td>NL</td>\n",
       "      <td>treinbl01</td>\n",
       "      <td>512800</td>\n",
       "    </tr>\n",
       "    <tr>\n",
       "      <th>25571</th>\n",
       "      <td>2015</td>\n",
       "      <td>WAS</td>\n",
       "      <td>NL</td>\n",
       "      <td>ugglada01</td>\n",
       "      <td>507500</td>\n",
       "    </tr>\n",
       "    <tr>\n",
       "      <th>25572</th>\n",
       "      <td>2015</td>\n",
       "      <td>WAS</td>\n",
       "      <td>NL</td>\n",
       "      <td>werthja01</td>\n",
       "      <td>21000000</td>\n",
       "    </tr>\n",
       "    <tr>\n",
       "      <th>25573</th>\n",
       "      <td>2015</td>\n",
       "      <td>WAS</td>\n",
       "      <td>NL</td>\n",
       "      <td>zimmejo02</td>\n",
       "      <td>16500000</td>\n",
       "    </tr>\n",
       "    <tr>\n",
       "      <th>25574</th>\n",
       "      <td>2015</td>\n",
       "      <td>WAS</td>\n",
       "      <td>NL</td>\n",
       "      <td>zimmery01</td>\n",
       "      <td>14000000</td>\n",
       "    </tr>\n",
       "  </tbody>\n",
       "</table>\n",
       "<p>25575 rows × 5 columns</p>\n",
       "</div>"
      ],
      "text/plain": [
       "       yearID teamID lgID   playerID    salary\n",
       "0        1985    ATL   NL  barkele01    870000\n",
       "1        1985    ATL   NL  bedrost01    550000\n",
       "2        1985    ATL   NL  benedbr01    545000\n",
       "3        1985    ATL   NL   campri01    633333\n",
       "4        1985    ATL   NL  ceronri01    625000\n",
       "...       ...    ...  ...        ...       ...\n",
       "25570    2015    WAS   NL  treinbl01    512800\n",
       "25571    2015    WAS   NL  ugglada01    507500\n",
       "25572    2015    WAS   NL  werthja01  21000000\n",
       "25573    2015    WAS   NL  zimmejo02  16500000\n",
       "25574    2015    WAS   NL  zimmery01  14000000\n",
       "\n",
       "[25575 rows x 5 columns]"
      ]
     },
     "execution_count": 15,
     "metadata": {},
     "output_type": "execute_result"
    }
   ],
   "source": [
    "uncleanedSal_df"
   ]
  },
  {
   "cell_type": "code",
   "execution_count": 85,
   "metadata": {},
   "outputs": [
    {
     "data": {
      "text/html": [
       "<div>\n",
       "<style scoped>\n",
       "    .dataframe tbody tr th:only-of-type {\n",
       "        vertical-align: middle;\n",
       "    }\n",
       "\n",
       "    .dataframe tbody tr th {\n",
       "        vertical-align: top;\n",
       "    }\n",
       "\n",
       "    .dataframe thead th {\n",
       "        text-align: right;\n",
       "    }\n",
       "</style>\n",
       "<table border=\"1\" class=\"dataframe\">\n",
       "  <thead>\n",
       "    <tr style=\"text-align: right;\">\n",
       "      <th></th>\n",
       "      <th>score</th>\n",
       "      <th>playerID</th>\n",
       "      <th>yearID</th>\n",
       "      <th>sal</th>\n",
       "    </tr>\n",
       "  </thead>\n",
       "  <tbody>\n",
       "    <tr>\n",
       "      <th>7659</th>\n",
       "      <td>0.419911</td>\n",
       "      <td>aguaylu01</td>\n",
       "      <td>1985</td>\n",
       "      <td>237000</td>\n",
       "    </tr>\n",
       "    <tr>\n",
       "      <th>7660</th>\n",
       "      <td>0.371442</td>\n",
       "      <td>almonbi01</td>\n",
       "      <td>1985</td>\n",
       "      <td>255000</td>\n",
       "    </tr>\n",
       "    <tr>\n",
       "      <th>7662</th>\n",
       "      <td>0.401720</td>\n",
       "      <td>armasto01</td>\n",
       "      <td>1985</td>\n",
       "      <td>915000</td>\n",
       "    </tr>\n",
       "    <tr>\n",
       "      <th>7663</th>\n",
       "      <td>0.415972</td>\n",
       "      <td>ashbyal01</td>\n",
       "      <td>1985</td>\n",
       "      <td>416667</td>\n",
       "    </tr>\n",
       "    <tr>\n",
       "      <th>7664</th>\n",
       "      <td>0.392923</td>\n",
       "      <td>backmwa01</td>\n",
       "      <td>1985</td>\n",
       "      <td>200000</td>\n",
       "    </tr>\n",
       "    <tr>\n",
       "      <th>...</th>\n",
       "      <td>...</td>\n",
       "      <td>...</td>\n",
       "      <td>...</td>\n",
       "      <td>...</td>\n",
       "    </tr>\n",
       "    <tr>\n",
       "      <th>18736</th>\n",
       "      <td>0.373947</td>\n",
       "      <td>youngde03</td>\n",
       "      <td>2015</td>\n",
       "      <td>2250000</td>\n",
       "    </tr>\n",
       "    <tr>\n",
       "      <th>18737</th>\n",
       "      <td>0.376446</td>\n",
       "      <td>zimmery01</td>\n",
       "      <td>2015</td>\n",
       "      <td>14000000</td>\n",
       "    </tr>\n",
       "    <tr>\n",
       "      <th>18738</th>\n",
       "      <td>0.383162</td>\n",
       "      <td>zobribe01</td>\n",
       "      <td>2015</td>\n",
       "      <td>7500000</td>\n",
       "    </tr>\n",
       "    <tr>\n",
       "      <th>18739</th>\n",
       "      <td>0.393640</td>\n",
       "      <td>zobribe01</td>\n",
       "      <td>2015</td>\n",
       "      <td>7500000</td>\n",
       "    </tr>\n",
       "    <tr>\n",
       "      <th>18740</th>\n",
       "      <td>0.320524</td>\n",
       "      <td>zuninmi01</td>\n",
       "      <td>2015</td>\n",
       "      <td>523500</td>\n",
       "    </tr>\n",
       "  </tbody>\n",
       "</table>\n",
       "<p>10212 rows × 4 columns</p>\n",
       "</div>"
      ],
      "text/plain": [
       "          score   playerID yearID       sal\n",
       "7659   0.419911  aguaylu01   1985    237000\n",
       "7660   0.371442  almonbi01   1985    255000\n",
       "7662   0.401720  armasto01   1985    915000\n",
       "7663   0.415972  ashbyal01   1985    416667\n",
       "7664   0.392923  backmwa01   1985    200000\n",
       "...         ...        ...    ...       ...\n",
       "18736  0.373947  youngde03   2015   2250000\n",
       "18737  0.376446  zimmery01   2015  14000000\n",
       "18738  0.383162  zobribe01   2015   7500000\n",
       "18739  0.393640  zobribe01   2015   7500000\n",
       "18740  0.320524  zuninmi01   2015    523500\n",
       "\n",
       "[10212 rows x 4 columns]"
      ]
     },
     "execution_count": 85,
     "metadata": {},
     "output_type": "execute_result"
    }
   ],
   "source": [
    "pd.options.mode.chained_assignment = None  # default='warn'\n",
    "df = pd.DataFrame(data=player_rank_salary)\n",
    "df.columns = ['score', 'playerID', 'yearID']\n",
    "df['sal'] = 0\n",
    "salaries_df = uncleanedSal_df[['yearID', 'playerID', 'salary']]\n",
    "\n",
    "for i in range(len(df)):\n",
    "    if df['playerID'][i] in salaries_df.values and int(df['yearID'][i]) in salaries_df.values:\n",
    "            index_list = salaries_df[(salaries_df['playerID'] == df['playerID'][i]) & (salaries_df['yearID'] == int(df['yearID'][i]))].index\n",
    "            if len(index_list) == 1:\n",
    "                df['sal'][i] = salaries_df.iloc[index_list]['salary'].astype(int)\n",
    "\n",
    "df = df[df.sal != 0]\n",
    "df"
   ]
  },
  {
   "cell_type": "code",
   "execution_count": 86,
   "metadata": {},
   "outputs": [],
   "source": [
    "salary_data = df"
   ]
  },
  {
   "cell_type": "markdown",
   "metadata": {},
   "source": [
    "Set up the KNN Regressor:"
   ]
  },
  {
   "cell_type": "code",
   "execution_count": 87,
   "metadata": {},
   "outputs": [
    {
     "name": "stdout",
     "output_type": "stream",
     "text": [
      "0.04688961441491181\n"
     ]
    }
   ],
   "source": [
    "# we can use such a high K value because our overall dataset size is so big (10212)\n",
    "neigh = KNeighborsRegressor(n_neighbors=10)\n",
    "X = salary_data[['score']]\n",
    "y = salary_data[['sal']]\n",
    "\n",
    "\n",
    "start = 1985\n",
    "salary_data['yearID'] = pd.to_numeric(salary_data['yearID'])\n",
    "average = []\n",
    "for i in range(2015-1985):\n",
    "    data = salary_data[salary_data.yearID == start+i]\n",
    "    X = data[['score']]\n",
    "    y = data[['sal']]\n",
    "    x_train, x_test, y_train, y_test = train_test_split(X, y, test_size=0.33, random_state=0)\n",
    "    neigh.fit(x_train, y_train)\n",
    "    average.append(neigh.score(x_test, y_test))\n",
    "\n",
    "\n",
    "print(sum(average)/len(average))"
   ]
  },
  {
   "cell_type": "code",
   "execution_count": 68,
   "metadata": {},
   "outputs": [
    {
     "name": "stdout",
     "output_type": "stream",
     "text": [
      "       level_0  index     score   playerID  yearID       sal  true_worth\n",
      "9883      9883  18361  0.403840  abreujo02    2015   8666000     7656650\n",
      "9884      9884  18362  0.357545  ackledu01    2015   2600000     2655740\n",
      "9885      9885  18363  0.363763  adamsma01    2015    534000     3530660\n",
      "9886      9886  18364  0.358230  ahmedni01    2015    508500     1856740\n",
      "9887      9887  18366  0.385322  alonsyo01    2015   1650000     3611680\n",
      "...        ...    ...       ...        ...     ...       ...         ...\n",
      "10207    10207  18736  0.373947  youngde03    2015   2250000     3956110\n",
      "10208    10208  18737  0.376446  zimmery01    2015  14000000     4782056\n",
      "10209    10209  18738  0.383162  zobribe01    2015   7500000     8340000\n",
      "10210    10210  18739  0.393640  zobribe01    2015   7500000     7217500\n",
      "10211    10211  18740  0.320524  zuninmi01    2015    523500     1442090\n",
      "\n",
      "[329 rows x 7 columns]\n"
     ]
    }
   ],
   "source": [
    "salary_data['true_worth'] = 0\n",
    "data_knn = salary_data[salary_data.yearID == 2015]\n",
    "X = data_knn[['score']]\n",
    "y = data_knn[['sal']]\n",
    "for i in range(len(data_knn)):\n",
    "    playerScore = []\n",
    "    playerScore.append(data_knn['score'][9883+i])\n",
    "    score = pd.DataFrame(data=playerScore)\n",
    "    playerSal = neigh.predict(score)\n",
    "    data_knn['true_worth'][i+9883] = playerSal\n",
    "print(data_knn)"
   ]
  },
  {
   "cell_type": "code",
   "execution_count": 83,
   "metadata": {},
   "outputs": [
    {
     "data": {
      "image/png": "[encoded data removed]",
      "text/plain": [
       "<Figure size 432x288 with 1 Axes>"
      ]
     },
     "metadata": {
      "needs_background": "light"
     },
     "output_type": "display_data"
    }
   ],
   "source": [
    "import matplotlib.pyplot as plot\n",
    "sal_lst = data_knn['sal'].to_list()\n",
    "val_lst = data_knn['true_worth'].to_list()\n",
    "for i in range(len(sal_lst)):\n",
    "    if sal_lst[i] == 0:\n",
    "        print(sal_lst[i])\n",
    "plot.scatter(sal_lst, val_lst)\n",
    "plot.title('KNN Reg Salary vs Worth in $10 Millions (2015)')\n",
    "plot.xlabel('Actual Salary')\n",
    "plot.ylabel('Worth from KNN Reg')\n",
    "plot.xlim([0, 25000000])\n",
    "plot.ylim([0, 15000000])\n",
    "plot.show()"
   ]
  },
  {
   "cell_type": "code",
   "execution_count": 80,
   "metadata": {},
   "outputs": [
    {
     "name": "stdout",
     "output_type": "stream",
     "text": [
      "0.0965930556093878\n"
     ]
    },
    {
     "data": {
      "image/png": "[encoded data removed]",
      "text/plain": [
       "<Figure size 432x288 with 1 Axes>"
      ]
     },
     "metadata": {
      "needs_background": "light"
     },
     "output_type": "display_data"
    }
   ],
   "source": [
    "data_reg = salary_data[salary_data.yearID == 2015]\n",
    "data_reg['true_worth'] = 0\n",
    "score = pd.DataFrame(data=data_reg['score'])\n",
    "sal = pd.DataFrame(data=data_reg['sal']) \n",
    "x_train, x_test, y_train, y_test = train_test_split(score, sal, test_size=0.25, random_state=0)\n",
    "test_reg = LinearRegression().fit(x_train, y_train)\n",
    "print(test_reg.score(x_test, y_test))\n",
    "reg = LinearRegression().fit(score, sal)\n",
    "for i in range(len(data_reg)):\n",
    "    player_score = []                       \n",
    "    player_score.append(data_knn['score'][9883+i])\n",
    "    score = pd.DataFrame(data=player_score)\n",
    "    des_sal = reg.predict(score)\n",
    "    data_reg['true_worth'][i+9883] = des_sal\n",
    "    \n",
    "sal_lst = data_reg['sal'].to_list()\n",
    "val_lst = data_reg['true_worth'].to_list()  \n",
    "plot.scatter(sal_lst, val_lst)\n",
    "plot.title('LR Salary vs Worth in $10 Millions (2015)')\n",
    "plot.xlabel('Actual Salary')\n",
    "plot.ylabel('Worth from LR')\n",
    "plot.xlim([0, 25000000])\n",
    "plot.ylim([0, 15000000])\n",
    "plot.show()"
   ]
  }
 ],
 "metadata": {
  "kernelspec": {
   "display_name": "Python 3",
   "language": "python",
   "name": "python3"
  },
  "language_info": {
   "codemirror_mode": {
    "name": "ipython",
    "version": 3
   },
   "file_extension": ".py",
   "mimetype": "text/x-python",
   "name": "python",
   "nbconvert_exporter": "python",
   "pygments_lexer": "ipython3",
   "version": "3.7.3"
  },
  "toc-showcode": true
 },
 "nbformat": 4,
 "nbformat_minor": 5
}
